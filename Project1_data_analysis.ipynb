{
 "cells": [
  {
   "cell_type": "code",
   "execution_count": 2,
   "metadata": {},
   "outputs": [],
   "source": [
    "import pandas as pd\n",
    "import numpy as np\n",
    "import matplotlib.pyplot as plt\n",
    "import seaborn as sns"
   ]
  },
  {
   "cell_type": "code",
   "execution_count": 3,
   "metadata": {},
   "outputs": [],
   "source": [
    "df = pd.read_csv('Biomass_data.csv')"
   ]
  },
  {
   "cell_type": "code",
   "execution_count": 4,
   "metadata": {},
   "outputs": [
    {
     "data": {
      "text/html": [
       "<div>\n",
       "<style scoped>\n",
       "    .dataframe tbody tr th:only-of-type {\n",
       "        vertical-align: middle;\n",
       "    }\n",
       "\n",
       "    .dataframe tbody tr th {\n",
       "        vertical-align: top;\n",
       "    }\n",
       "\n",
       "    .dataframe thead th {\n",
       "        text-align: right;\n",
       "    }\n",
       "</style>\n",
       "<table border=\"1\" class=\"dataframe\">\n",
       "  <thead>\n",
       "    <tr style=\"text-align: right;\">\n",
       "      <th></th>\n",
       "      <th>1990</th>\n",
       "      <th>1991</th>\n",
       "      <th>1992</th>\n",
       "      <th>1993</th>\n",
       "      <th>1994</th>\n",
       "      <th>1995</th>\n",
       "      <th>1996</th>\n",
       "      <th>1997</th>\n",
       "      <th>1998</th>\n",
       "      <th>1999</th>\n",
       "      <th>...</th>\n",
       "      <th>2007</th>\n",
       "      <th>2008</th>\n",
       "      <th>2009</th>\n",
       "      <th>2010</th>\n",
       "      <th>2011</th>\n",
       "      <th>2012</th>\n",
       "      <th>2013</th>\n",
       "      <th>2014</th>\n",
       "      <th>2015</th>\n",
       "      <th>2016</th>\n",
       "    </tr>\n",
       "  </thead>\n",
       "  <tbody>\n",
       "    <tr>\n",
       "      <th>Hectares</th>\n",
       "      <td>4285410.09</td>\n",
       "      <td>4280129.34</td>\n",
       "      <td>4274848.63</td>\n",
       "      <td>4269567.91</td>\n",
       "      <td>4264287.15</td>\n",
       "      <td>4259006.42</td>\n",
       "      <td>4253725.67</td>\n",
       "      <td>4248444.95</td>\n",
       "      <td>4243164.19</td>\n",
       "      <td>4237883.48</td>\n",
       "      <td>...</td>\n",
       "      <td>4221985.23</td>\n",
       "      <td>4220084.61</td>\n",
       "      <td>4218183.93</td>\n",
       "      <td>4216283.27</td>\n",
       "      <td>4214516.42</td>\n",
       "      <td>4212750.75</td>\n",
       "      <td>4210985.1</td>\n",
       "      <td>4209219.43</td>\n",
       "      <td>4207453.76</td>\n",
       "      <td>4205688.09</td>\n",
       "    </tr>\n",
       "  </tbody>\n",
       "</table>\n",
       "<p>1 rows × 27 columns</p>\n",
       "</div>"
      ],
      "text/plain": [
       "                1990        1991        1992        1993        1994  \\\n",
       "Hectares  4285410.09  4280129.34  4274848.63  4269567.91  4264287.15   \n",
       "\n",
       "                1995        1996        1997        1998        1999  \\\n",
       "Hectares  4259006.42  4253725.67  4248444.95  4243164.19  4237883.48   \n",
       "\n",
       "             ...            2007        2008        2009        2010  \\\n",
       "Hectares     ...      4221985.23  4220084.61  4218183.93  4216283.27   \n",
       "\n",
       "                2011        2012       2013        2014        2015  \\\n",
       "Hectares  4214516.42  4212750.75  4210985.1  4209219.43  4207453.76   \n",
       "\n",
       "                2016  \n",
       "Hectares  4205688.09  \n",
       "\n",
       "[1 rows x 27 columns]"
      ]
     },
     "execution_count": 4,
     "metadata": {},
     "output_type": "execute_result"
    }
   ],
   "source": [
    "years = list(set(df['Year Code'].unique()))\n",
    "df2 = df.groupby('Year Code')\n",
    "dc = {}\n",
    "for year in years:\n",
    "   # display(df2.get_group(year))\n",
    "    temp_df = df2.get_group(year)\n",
    "    dc[year] = temp_df['Value'].sum()\n",
    "biomass_df = pd.DataFrame([dc], index=['Hectares'])\n",
    "biomass_df"
   ]
  },
  {
   "cell_type": "code",
   "execution_count": 5,
   "metadata": {},
   "outputs": [],
   "source": [
    "stacked = biomass_df.stack()\n",
    "stacked = stacked.to_frame()\n",
    "stacked = stacked.reset_index(level=0)\n",
    "stacked = stacked.drop(columns=['level_0'])\n",
    "biomass_df = stacked.rename(index=str, columns={0:'Biomass(ha)'})\n",
    "biomass_df.head()\n",
    "biomass_df.to_csv('biomass.csv')"
   ]
  },
  {
   "cell_type": "code",
   "execution_count": 6,
   "metadata": {},
   "outputs": [],
   "source": [
    "df3 = pd.read_csv('seattleWeather_1948-2017.csv')\n",
    "df3['DATE'] = pd.to_datetime(df3['DATE'])\n",
    "df3.set_index('DATE', inplace=True)\n",
    "df3['YEAR'] = pd.DatetimeIndex(df3.index).year\n",
    "df3['MONTH'] = pd.DatetimeIndex(df3.index).month\n",
    "df3['DAY'] = pd.DatetimeIndex(df3.index).day"
   ]
  },
  {
   "cell_type": "code",
   "execution_count": 7,
   "metadata": {},
   "outputs": [
    {
     "data": {
      "text/html": [
       "<div>\n",
       "<style scoped>\n",
       "    .dataframe tbody tr th:only-of-type {\n",
       "        vertical-align: middle;\n",
       "    }\n",
       "\n",
       "    .dataframe tbody tr th {\n",
       "        vertical-align: top;\n",
       "    }\n",
       "\n",
       "    .dataframe thead th {\n",
       "        text-align: right;\n",
       "    }\n",
       "</style>\n",
       "<table border=\"1\" class=\"dataframe\">\n",
       "  <thead>\n",
       "    <tr style=\"text-align: right;\">\n",
       "      <th></th>\n",
       "      <th>1948</th>\n",
       "      <th>1949</th>\n",
       "      <th>1950</th>\n",
       "      <th>1951</th>\n",
       "      <th>1952</th>\n",
       "      <th>1953</th>\n",
       "      <th>1954</th>\n",
       "      <th>1955</th>\n",
       "      <th>1956</th>\n",
       "      <th>1957</th>\n",
       "      <th>...</th>\n",
       "      <th>2008</th>\n",
       "      <th>2009</th>\n",
       "      <th>2010</th>\n",
       "      <th>2011</th>\n",
       "      <th>2012</th>\n",
       "      <th>2013</th>\n",
       "      <th>2014</th>\n",
       "      <th>2015</th>\n",
       "      <th>2016</th>\n",
       "      <th>2017</th>\n",
       "    </tr>\n",
       "  </thead>\n",
       "  <tbody>\n",
       "    <tr>\n",
       "      <th>Inches</th>\n",
       "      <td>45.79</td>\n",
       "      <td>32.46</td>\n",
       "      <td>55.14</td>\n",
       "      <td>40.3</td>\n",
       "      <td>23.78</td>\n",
       "      <td>49.42</td>\n",
       "      <td>41.27</td>\n",
       "      <td>46.61</td>\n",
       "      <td>36.85</td>\n",
       "      <td>34.63</td>\n",
       "      <td>...</td>\n",
       "      <td>30.73</td>\n",
       "      <td>38.44</td>\n",
       "      <td>46.99</td>\n",
       "      <td>36.39</td>\n",
       "      <td>48.26</td>\n",
       "      <td>32.56</td>\n",
       "      <td>48.5</td>\n",
       "      <td>44.83</td>\n",
       "      <td>45.18</td>\n",
       "      <td>43.55</td>\n",
       "    </tr>\n",
       "  </tbody>\n",
       "</table>\n",
       "<p>1 rows × 70 columns</p>\n",
       "</div>"
      ],
      "text/plain": [
       "         1948   1949   1950  1951   1952   1953   1954   1955   1956   1957  \\\n",
       "Inches  45.79  32.46  55.14  40.3  23.78  49.42  41.27  46.61  36.85  34.63   \n",
       "\n",
       "        ...     2008   2009   2010   2011   2012   2013  2014   2015   2016  \\\n",
       "Inches  ...    30.73  38.44  46.99  36.39  48.26  32.56  48.5  44.83  45.18   \n",
       "\n",
       "         2017  \n",
       "Inches  43.55  \n",
       "\n",
       "[1 rows x 70 columns]"
      ]
     },
     "execution_count": 7,
     "metadata": {},
     "output_type": "execute_result"
    }
   ],
   "source": [
    "df4= df3.groupby('YEAR')\n",
    "dc = {}\n",
    "for year in df3['YEAR'].unique():\n",
    "    temp_df =  df4.get_group(year)\n",
    "    dc[year] = temp_df['PRCP'].sum()\n",
    "seattle_rain_df = pd.DataFrame([dc], index=['Inches'])\n",
    "seattle_rain_df"
   ]
  },
  {
   "cell_type": "code",
   "execution_count": 8,
   "metadata": {},
   "outputs": [],
   "source": [
    "stacked = seattle_rain_df.stack()\n",
    "stacked = stacked.to_frame()\n",
    "stacked = stacked.reset_index(level=0)\n",
    "# df.rename(index=str, columns={\"A\": \"a\", \"C\": \"c\"})\n",
    "seattle_rain_df = stacked.rename(index=str, columns={'level_0': 'Unit', 0:'Prcp'})\n",
    "seattle_rain_df.head()\n",
    "seattle_rain_df.to_csv('seattle_rain.csv')"
   ]
  },
  {
   "cell_type": "code",
   "execution_count": 9,
   "metadata": {},
   "outputs": [
    {
     "data": {
      "text/html": [
       "<div>\n",
       "<style scoped>\n",
       "    .dataframe tbody tr th:only-of-type {\n",
       "        vertical-align: middle;\n",
       "    }\n",
       "\n",
       "    .dataframe tbody tr th {\n",
       "        vertical-align: top;\n",
       "    }\n",
       "\n",
       "    .dataframe thead th {\n",
       "        text-align: right;\n",
       "    }\n",
       "</style>\n",
       "<table border=\"1\" class=\"dataframe\">\n",
       "  <thead>\n",
       "    <tr style=\"text-align: right;\">\n",
       "      <th></th>\n",
       "      <th>year</th>\n",
       "      <th>ppm</th>\n",
       "    </tr>\n",
       "  </thead>\n",
       "  <tbody>\n",
       "    <tr>\n",
       "      <th>0</th>\n",
       "      <td>1</td>\n",
       "      <td>276.064</td>\n",
       "    </tr>\n",
       "    <tr>\n",
       "      <th>1</th>\n",
       "      <td>2</td>\n",
       "      <td>276.112</td>\n",
       "    </tr>\n",
       "    <tr>\n",
       "      <th>2</th>\n",
       "      <td>3</td>\n",
       "      <td>276.163</td>\n",
       "    </tr>\n",
       "    <tr>\n",
       "      <th>3</th>\n",
       "      <td>4</td>\n",
       "      <td>276.218</td>\n",
       "    </tr>\n",
       "    <tr>\n",
       "      <th>4</th>\n",
       "      <td>5</td>\n",
       "      <td>276.276</td>\n",
       "    </tr>\n",
       "  </tbody>\n",
       "</table>\n",
       "</div>"
      ],
      "text/plain": [
       "   year      ppm\n",
       "0     1  276.064\n",
       "1     2  276.112\n",
       "2     3  276.163\n",
       "3     4  276.218\n",
       "4     5  276.276"
      ]
     },
     "execution_count": 9,
     "metadata": {},
     "output_type": "execute_result"
    }
   ],
   "source": [
    "df5 = pd.read_csv('spline_merged_ice_core_yearly.csv', skiprows=28, names=['year', 'ppm'])\n",
    "df5.head()"
   ]
  },
  {
   "cell_type": "code",
   "execution_count": 10,
   "metadata": {},
   "outputs": [],
   "source": [
    "df6 = pd.read_csv('GlobalLandTemperaturesByCity.csv')\n",
    "boston_df = df6.copy()[df6['City']=='Boston']\n",
    "boston_df['dt'] = pd.to_datetime(boston_df['dt'])\n",
    "boston_df.set_index('dt', inplace=True)\n",
    "boston_df = boston_df.dropna(subset=['AverageTemperature'])\n",
    "boston_df['year'] = pd.DatetimeIndex(boston_df.index).year"
   ]
  },
  {
   "cell_type": "code",
   "execution_count": 11,
   "metadata": {},
   "outputs": [],
   "source": [
    "dc = boston_df['year'].value_counts().to_dict()\n",
    "good_year = [k for k, v in dc.items() if v== 12]"
   ]
  },
  {
   "cell_type": "code",
   "execution_count": 12,
   "metadata": {},
   "outputs": [],
   "source": [
    "boston_df = boston_df.groupby('year')"
   ]
  },
  {
   "cell_type": "code",
   "execution_count": 13,
   "metadata": {},
   "outputs": [],
   "source": [
    "boston_avg_temp_df = pd.DataFrame()"
   ]
  },
  {
   "cell_type": "code",
   "execution_count": 14,
   "metadata": {},
   "outputs": [],
   "source": [
    "more_boston = pd.read_csv('NOWdatabostonmonthtemps2013-2018.csv')\n",
    "years = more_boston['year'].unique()"
   ]
  },
  {
   "cell_type": "code",
   "execution_count": 15,
   "metadata": {},
   "outputs": [],
   "source": [
    "dc1 ={}\n",
    "for year in good_year:\n",
    "    temp_df = boston_df.get_group(year)\n",
    "#     print(temp_df['AverageTemperature'].mean())\n",
    "#     boston_avg_temp_df[year] = temp_df['AverageTemperature'].mean()\n",
    "    dc1[year] = temp_df['AverageTemperature'].mean()"
   ]
  },
  {
   "cell_type": "code",
   "execution_count": 16,
   "metadata": {},
   "outputs": [],
   "source": [
    "boston_avg_temp_df = pd.DataFrame([dc1])"
   ]
  },
  {
   "cell_type": "code",
   "execution_count": 17,
   "metadata": {},
   "outputs": [],
   "source": [
    "boston_avg_temp_df = boston_avg_temp_df.stack()"
   ]
  },
  {
   "cell_type": "code",
   "execution_count": 18,
   "metadata": {},
   "outputs": [],
   "source": [
    "boston_avg_temp_df = boston_avg_temp_df.to_frame()"
   ]
  },
  {
   "cell_type": "code",
   "execution_count": 19,
   "metadata": {},
   "outputs": [],
   "source": [
    "boston_avg_temp_df.head()\n",
    "boston_avg_temp_df.columns = ['AverageTemperature']\n",
    "more_boston = more_boston.groupby('year')"
   ]
  },
  {
   "cell_type": "code",
   "execution_count": 20,
   "metadata": {},
   "outputs": [],
   "source": [
    "boston_avg_temp_df.index = boston_avg_temp_df.index.droplevel(0)"
   ]
  },
  {
   "cell_type": "code",
   "execution_count": 21,
   "metadata": {},
   "outputs": [
    {
     "data": {
      "text/html": [
       "<div>\n",
       "<style scoped>\n",
       "    .dataframe tbody tr th:only-of-type {\n",
       "        vertical-align: middle;\n",
       "    }\n",
       "\n",
       "    .dataframe tbody tr th {\n",
       "        vertical-align: top;\n",
       "    }\n",
       "\n",
       "    .dataframe thead th {\n",
       "        text-align: right;\n",
       "    }\n",
       "</style>\n",
       "<table border=\"1\" class=\"dataframe\">\n",
       "  <thead>\n",
       "    <tr style=\"text-align: right;\">\n",
       "      <th></th>\n",
       "      <th>AverageTemperature</th>\n",
       "    </tr>\n",
       "  </thead>\n",
       "  <tbody>\n",
       "    <tr>\n",
       "      <th>1753</th>\n",
       "      <td>7.349333</td>\n",
       "    </tr>\n",
       "    <tr>\n",
       "      <th>1758</th>\n",
       "      <td>6.088583</td>\n",
       "    </tr>\n",
       "    <tr>\n",
       "      <th>1759</th>\n",
       "      <td>6.804167</td>\n",
       "    </tr>\n",
       "    <tr>\n",
       "      <th>1766</th>\n",
       "      <td>7.958583</td>\n",
       "    </tr>\n",
       "    <tr>\n",
       "      <th>1768</th>\n",
       "      <td>6.739583</td>\n",
       "    </tr>\n",
       "  </tbody>\n",
       "</table>\n",
       "</div>"
      ],
      "text/plain": [
       "      AverageTemperature\n",
       "1753            7.349333\n",
       "1758            6.088583\n",
       "1759            6.804167\n",
       "1766            7.958583\n",
       "1768            6.739583"
      ]
     },
     "execution_count": 21,
     "metadata": {},
     "output_type": "execute_result"
    }
   ],
   "source": [
    "boston_avg_temp_df.head()"
   ]
  },
  {
   "cell_type": "code",
   "execution_count": 22,
   "metadata": {},
   "outputs": [
    {
     "data": {
      "text/plain": [
       "{2013: 11.11111111111111,\n",
       " 2014: 10.611111111111112,\n",
       " 2015: 10.88888888888889,\n",
       " 2016: 11.88888888888889,\n",
       " 2017: 11.444444444444446,\n",
       " 2018: 11.666666666666668}"
      ]
     },
     "execution_count": 22,
     "metadata": {},
     "output_type": "execute_result"
    }
   ],
   "source": [
    "new_dc = {}\n",
    "for year in years:\n",
    "    temp_df = more_boston.get_group(year)\n",
    "    new_dc[year] = (temp_df['annual'].sum() -32) * (5/9)\n",
    "new_dc"
   ]
  },
  {
   "cell_type": "code",
   "execution_count": 23,
   "metadata": {},
   "outputs": [
    {
     "data": {
      "text/html": [
       "<div>\n",
       "<style scoped>\n",
       "    .dataframe tbody tr th:only-of-type {\n",
       "        vertical-align: middle;\n",
       "    }\n",
       "\n",
       "    .dataframe tbody tr th {\n",
       "        vertical-align: top;\n",
       "    }\n",
       "\n",
       "    .dataframe thead th {\n",
       "        text-align: right;\n",
       "    }\n",
       "</style>\n",
       "<table border=\"1\" class=\"dataframe\">\n",
       "  <thead>\n",
       "    <tr style=\"text-align: right;\">\n",
       "      <th></th>\n",
       "      <th>AverageTemperature</th>\n",
       "    </tr>\n",
       "  </thead>\n",
       "  <tbody>\n",
       "    <tr>\n",
       "      <th>1753</th>\n",
       "      <td>7.349333</td>\n",
       "    </tr>\n",
       "    <tr>\n",
       "      <th>1758</th>\n",
       "      <td>6.088583</td>\n",
       "    </tr>\n",
       "    <tr>\n",
       "      <th>1759</th>\n",
       "      <td>6.804167</td>\n",
       "    </tr>\n",
       "    <tr>\n",
       "      <th>1766</th>\n",
       "      <td>7.958583</td>\n",
       "    </tr>\n",
       "    <tr>\n",
       "      <th>1768</th>\n",
       "      <td>6.739583</td>\n",
       "    </tr>\n",
       "  </tbody>\n",
       "</table>\n",
       "</div>"
      ],
      "text/plain": [
       "      AverageTemperature\n",
       "1753            7.349333\n",
       "1758            6.088583\n",
       "1759            6.804167\n",
       "1766            7.958583\n",
       "1768            6.739583"
      ]
     },
     "execution_count": 23,
     "metadata": {},
     "output_type": "execute_result"
    }
   ],
   "source": [
    "boston_avg_temp_df.head()"
   ]
  },
  {
   "cell_type": "code",
   "execution_count": 24,
   "metadata": {},
   "outputs": [],
   "source": [
    "new_df = pd.DataFrame.from_dict(new_dc, orient='index', columns=['AverageTemperature'])\n",
    "all_dfs = [boston_avg_temp_df, new_df]\n",
    "boston_avg_temp_df = boston_avg_temp_df.append([new_df])"
   ]
  },
  {
   "cell_type": "code",
   "execution_count": 25,
   "metadata": {},
   "outputs": [
    {
     "data": {
      "text/html": [
       "<div>\n",
       "<style scoped>\n",
       "    .dataframe tbody tr th:only-of-type {\n",
       "        vertical-align: middle;\n",
       "    }\n",
       "\n",
       "    .dataframe tbody tr th {\n",
       "        vertical-align: top;\n",
       "    }\n",
       "\n",
       "    .dataframe thead th {\n",
       "        text-align: right;\n",
       "    }\n",
       "</style>\n",
       "<table border=\"1\" class=\"dataframe\">\n",
       "  <thead>\n",
       "    <tr style=\"text-align: right;\">\n",
       "      <th></th>\n",
       "      <th>AverageTemperature</th>\n",
       "    </tr>\n",
       "  </thead>\n",
       "  <tbody>\n",
       "    <tr>\n",
       "      <th>1753</th>\n",
       "      <td>7.349333</td>\n",
       "    </tr>\n",
       "    <tr>\n",
       "      <th>1758</th>\n",
       "      <td>6.088583</td>\n",
       "    </tr>\n",
       "    <tr>\n",
       "      <th>1759</th>\n",
       "      <td>6.804167</td>\n",
       "    </tr>\n",
       "    <tr>\n",
       "      <th>1766</th>\n",
       "      <td>7.958583</td>\n",
       "    </tr>\n",
       "    <tr>\n",
       "      <th>1768</th>\n",
       "      <td>6.739583</td>\n",
       "    </tr>\n",
       "  </tbody>\n",
       "</table>\n",
       "</div>"
      ],
      "text/plain": [
       "      AverageTemperature\n",
       "1753            7.349333\n",
       "1758            6.088583\n",
       "1759            6.804167\n",
       "1766            7.958583\n",
       "1768            6.739583"
      ]
     },
     "execution_count": 25,
     "metadata": {},
     "output_type": "execute_result"
    }
   ],
   "source": [
    "boston_avg_temp_df.head()"
   ]
  },
  {
   "cell_type": "code",
   "execution_count": 26,
   "metadata": {},
   "outputs": [],
   "source": [
    "df5.set_index('year', inplace=True)"
   ]
  },
  {
   "cell_type": "code",
   "execution_count": 27,
   "metadata": {},
   "outputs": [
    {
     "data": {
      "text/html": [
       "<div>\n",
       "<style scoped>\n",
       "    .dataframe tbody tr th:only-of-type {\n",
       "        vertical-align: middle;\n",
       "    }\n",
       "\n",
       "    .dataframe tbody tr th {\n",
       "        vertical-align: top;\n",
       "    }\n",
       "\n",
       "    .dataframe thead th {\n",
       "        text-align: right;\n",
       "    }\n",
       "</style>\n",
       "<table border=\"1\" class=\"dataframe\">\n",
       "  <thead>\n",
       "    <tr style=\"text-align: right;\">\n",
       "      <th></th>\n",
       "      <th>average_anual_temp(c)</th>\n",
       "    </tr>\n",
       "  </thead>\n",
       "  <tbody>\n",
       "    <tr>\n",
       "      <th>1753</th>\n",
       "      <td>7.349333</td>\n",
       "    </tr>\n",
       "    <tr>\n",
       "      <th>1758</th>\n",
       "      <td>6.088583</td>\n",
       "    </tr>\n",
       "    <tr>\n",
       "      <th>1759</th>\n",
       "      <td>6.804167</td>\n",
       "    </tr>\n",
       "    <tr>\n",
       "      <th>1766</th>\n",
       "      <td>7.958583</td>\n",
       "    </tr>\n",
       "    <tr>\n",
       "      <th>1768</th>\n",
       "      <td>6.739583</td>\n",
       "    </tr>\n",
       "  </tbody>\n",
       "</table>\n",
       "</div>"
      ],
      "text/plain": [
       "      average_anual_temp(c)\n",
       "1753               7.349333\n",
       "1758               6.088583\n",
       "1759               6.804167\n",
       "1766               7.958583\n",
       "1768               6.739583"
      ]
     },
     "execution_count": 27,
     "metadata": {},
     "output_type": "execute_result"
    }
   ],
   "source": [
    "boston_avg_temp_df.columns = ['average_anual_temp(c)']\n",
    "boston_avg_temp_df.head()"
   ]
  },
  {
   "cell_type": "code",
   "execution_count": 68,
   "metadata": {},
   "outputs": [
    {
     "data": {
      "text/html": [
       "<div>\n",
       "<style scoped>\n",
       "    .dataframe tbody tr th:only-of-type {\n",
       "        vertical-align: middle;\n",
       "    }\n",
       "\n",
       "    .dataframe tbody tr th {\n",
       "        vertical-align: top;\n",
       "    }\n",
       "\n",
       "    .dataframe thead th {\n",
       "        text-align: right;\n",
       "    }\n",
       "</style>\n",
       "<table border=\"1\" class=\"dataframe\">\n",
       "  <thead>\n",
       "    <tr style=\"text-align: right;\">\n",
       "      <th></th>\n",
       "      <th>ppm</th>\n",
       "    </tr>\n",
       "    <tr>\n",
       "      <th>year</th>\n",
       "      <th></th>\n",
       "    </tr>\n",
       "  </thead>\n",
       "  <tbody>\n",
       "    <tr>\n",
       "      <th>1</th>\n",
       "      <td>276.064</td>\n",
       "    </tr>\n",
       "    <tr>\n",
       "      <th>2</th>\n",
       "      <td>276.112</td>\n",
       "    </tr>\n",
       "    <tr>\n",
       "      <th>3</th>\n",
       "      <td>276.163</td>\n",
       "    </tr>\n",
       "    <tr>\n",
       "      <th>4</th>\n",
       "      <td>276.218</td>\n",
       "    </tr>\n",
       "    <tr>\n",
       "      <th>5</th>\n",
       "      <td>276.276</td>\n",
       "    </tr>\n",
       "  </tbody>\n",
       "</table>\n",
       "</div>"
      ],
      "text/plain": [
       "          ppm\n",
       "year         \n",
       "1     276.064\n",
       "2     276.112\n",
       "3     276.163\n",
       "4     276.218\n",
       "5     276.276"
      ]
     },
     "execution_count": 68,
     "metadata": {},
     "output_type": "execute_result"
    }
   ],
   "source": [
    "c02_temp_df = boston_avg_temp_df.join(df5, how='left')\n",
    "c02_temp_df.to_csv('c02temp.csv')"
   ]
  },
  {
   "cell_type": "code",
   "execution_count": 118,
   "metadata": {},
   "outputs": [
    {
     "data": {
      "image/png": "[encoded data removed]",
      "text/plain": [
       "<Figure size 432x288 with 2 Axes>"
      ]
     },
     "metadata": {
      "needs_background": "light"
     },
     "output_type": "display_data"
    }
   ],
   "source": [
    "fig, ax1 = plt.subplots()\n",
    "#ax1.plot(c02_temp_df.index, c02_temp_df['average_anual_temp(c)'], c=\"r\")\n",
    "plt.scatter(boston_avg_temp_df.index, \n",
    "            boston_avg_temp_df,\n",
    "            c=np.array(boston_avg_temp_df)*-1,\n",
    "            cmap=plt.cm.RdYlGn)\n",
    "\n",
    "ax2 = ax1.twinx()\n",
    "ax2.plot(c02_temp_df.index, c02_temp_df['ppm'], c='k')\n",
    "\n",
    "plt.title('Temperature and CO2 Correlation', fontsize=20)\n",
    "#plt.style.use('seaborn')\n",
    "ax1.set_ylabel('Deg (c)')\n",
    "ax1.set_xlabel('year')\n",
    "ax1.grid()\n",
    "\n",
    "ax2.set_ylabel('CO2 ppm')\n",
    "\n",
    "fig.tight_layout()\n",
    "plt.savefig(\"C02_TEMP.png\")"
   ]
  },
  {
   "cell_type": "code",
   "execution_count": 51,
   "metadata": {},
   "outputs": [],
   "source": [
    "x = pd.read_html('https://www.nifc.gov/fireInfo/fireInfo_stats_totalFires.html')"
   ]
  },
  {
   "cell_type": "code",
   "execution_count": 52,
   "metadata": {},
   "outputs": [
    {
     "data": {
      "text/html": [
       "<div>\n",
       "<style scoped>\n",
       "    .dataframe tbody tr th:only-of-type {\n",
       "        vertical-align: middle;\n",
       "    }\n",
       "\n",
       "    .dataframe tbody tr th {\n",
       "        vertical-align: top;\n",
       "    }\n",
       "\n",
       "    .dataframe thead th {\n",
       "        text-align: right;\n",
       "    }\n",
       "</style>\n",
       "<table border=\"1\" class=\"dataframe\">\n",
       "  <thead>\n",
       "    <tr style=\"text-align: right;\">\n",
       "      <th></th>\n",
       "      <th>1</th>\n",
       "      <th>2</th>\n",
       "    </tr>\n",
       "    <tr>\n",
       "      <th>0</th>\n",
       "      <th></th>\n",
       "      <th></th>\n",
       "    </tr>\n",
       "  </thead>\n",
       "  <tbody>\n",
       "    <tr>\n",
       "      <th>Year</th>\n",
       "      <td>Fires</td>\n",
       "      <td>Acres</td>\n",
       "    </tr>\n",
       "    <tr>\n",
       "      <th>2018</th>\n",
       "      <td>58083</td>\n",
       "      <td>8767492</td>\n",
       "    </tr>\n",
       "    <tr>\n",
       "      <th>2017</th>\n",
       "      <td>71499</td>\n",
       "      <td>10026086</td>\n",
       "    </tr>\n",
       "    <tr>\n",
       "      <th>2016</th>\n",
       "      <td>67743</td>\n",
       "      <td>5509995</td>\n",
       "    </tr>\n",
       "    <tr>\n",
       "      <th>2015</th>\n",
       "      <td>68151</td>\n",
       "      <td>10125149</td>\n",
       "    </tr>\n",
       "  </tbody>\n",
       "</table>\n",
       "</div>"
      ],
      "text/plain": [
       "          1         2\n",
       "0                    \n",
       "Year  Fires     Acres\n",
       "2018  58083   8767492\n",
       "2017  71499  10026086\n",
       "2016  67743   5509995\n",
       "2015  68151  10125149"
      ]
     },
     "execution_count": 52,
     "metadata": {},
     "output_type": "execute_result"
    }
   ],
   "source": [
    "us_fire_history_df = x[0]\n",
    "us_fire_history_df = us_fire_history_df.dropna()\n",
    "us_fire_history_df = us_fire_history_df.set_index(0)\n",
    "us_fire_history_df.head()"
   ]
  },
  {
   "cell_type": "code",
   "execution_count": 32,
   "metadata": {},
   "outputs": [],
   "source": [
    "headers = us_fire_history_df.iloc[0]\n",
    "new_df = pd.DataFrame(us_fire_history_df.values[1:], columns=['Fires', 'Acres'], index=us_fire_history_df.index[1:])\n",
    "new_df.index.names=['year']"
   ]
  },
  {
   "cell_type": "code",
   "execution_count": 33,
   "metadata": {},
   "outputs": [],
   "source": [
    "acres = []\n",
    "for x in new_df.Acres:\n",
    "    if '*' in x:\n",
    "        x = x.replace(',', '')\n",
    "        x = int(x.replace('*', ''))\n",
    "        acres.append(x)\n",
    "    else:\n",
    "        acres.append(int(x))\n",
    "years = [year for year in new_df.index]\n",
    "\n",
    "us_fire_df = pd.DataFrame({'acres':acres}, index=years)\n",
    "us_fire_df = us_fire_df.sort_index(ascending=True)\n",
    "# us_fire_df.index = pd.to_datetime(us_fire_df.index)\n",
    "us_fire_df.to_csv('us_fire_acerage.csv')"
   ]
  },
  {
   "cell_type": "code",
   "execution_count": 34,
   "metadata": {},
   "outputs": [],
   "source": [
    "fire_rain_df = us_fire_df.join(seattle_rain_df, how='right')"
   ]
  },
  {
   "cell_type": "code",
   "execution_count": 35,
   "metadata": {},
   "outputs": [
    {
     "data": {
      "text/html": [
       "<div>\n",
       "<style scoped>\n",
       "    .dataframe tbody tr th:only-of-type {\n",
       "        vertical-align: middle;\n",
       "    }\n",
       "\n",
       "    .dataframe tbody tr th {\n",
       "        vertical-align: top;\n",
       "    }\n",
       "\n",
       "    .dataframe thead th {\n",
       "        text-align: right;\n",
       "    }\n",
       "</style>\n",
       "<table border=\"1\" class=\"dataframe\">\n",
       "  <thead>\n",
       "    <tr style=\"text-align: right;\">\n",
       "      <th></th>\n",
       "      <th>acres</th>\n",
       "      <th>Unit</th>\n",
       "      <th>Prcp</th>\n",
       "    </tr>\n",
       "  </thead>\n",
       "  <tbody>\n",
       "    <tr>\n",
       "      <th>1948</th>\n",
       "      <td>16557000</td>\n",
       "      <td>Inches</td>\n",
       "      <td>45.79</td>\n",
       "    </tr>\n",
       "    <tr>\n",
       "      <th>1949</th>\n",
       "      <td>15397000</td>\n",
       "      <td>Inches</td>\n",
       "      <td>32.46</td>\n",
       "    </tr>\n",
       "    <tr>\n",
       "      <th>1950</th>\n",
       "      <td>15519000</td>\n",
       "      <td>Inches</td>\n",
       "      <td>55.14</td>\n",
       "    </tr>\n",
       "    <tr>\n",
       "      <th>1951</th>\n",
       "      <td>10781000</td>\n",
       "      <td>Inches</td>\n",
       "      <td>40.30</td>\n",
       "    </tr>\n",
       "    <tr>\n",
       "      <th>1952</th>\n",
       "      <td>14187000</td>\n",
       "      <td>Inches</td>\n",
       "      <td>23.78</td>\n",
       "    </tr>\n",
       "  </tbody>\n",
       "</table>\n",
       "</div>"
      ],
      "text/plain": [
       "         acres    Unit   Prcp\n",
       "1948  16557000  Inches  45.79\n",
       "1949  15397000  Inches  32.46\n",
       "1950  15519000  Inches  55.14\n",
       "1951  10781000  Inches  40.30\n",
       "1952  14187000  Inches  23.78"
      ]
     },
     "execution_count": 35,
     "metadata": {},
     "output_type": "execute_result"
    }
   ],
   "source": [
    "fire_rain_df.head()"
   ]
  },
  {
   "cell_type": "code",
   "execution_count": 36,
   "metadata": {},
   "outputs": [
    {
     "data": {
      "text/html": [
       "<div>\n",
       "<style scoped>\n",
       "    .dataframe tbody tr th:only-of-type {\n",
       "        vertical-align: middle;\n",
       "    }\n",
       "\n",
       "    .dataframe tbody tr th {\n",
       "        vertical-align: top;\n",
       "    }\n",
       "\n",
       "    .dataframe thead th {\n",
       "        text-align: right;\n",
       "    }\n",
       "</style>\n",
       "<table border=\"1\" class=\"dataframe\">\n",
       "  <thead>\n",
       "    <tr style=\"text-align: right;\">\n",
       "      <th></th>\n",
       "      <th>acres</th>\n",
       "      <th>Prcp</th>\n",
       "    </tr>\n",
       "  </thead>\n",
       "  <tbody>\n",
       "    <tr>\n",
       "      <th>acres</th>\n",
       "      <td>1.000000</td>\n",
       "      <td>0.157095</td>\n",
       "    </tr>\n",
       "    <tr>\n",
       "      <th>Prcp</th>\n",
       "      <td>0.157095</td>\n",
       "      <td>1.000000</td>\n",
       "    </tr>\n",
       "  </tbody>\n",
       "</table>\n",
       "</div>"
      ],
      "text/plain": [
       "          acres      Prcp\n",
       "acres  1.000000  0.157095\n",
       "Prcp   0.157095  1.000000"
      ]
     },
     "execution_count": 36,
     "metadata": {},
     "output_type": "execute_result"
    }
   ],
   "source": [
    "fire_rain_df[['acres', 'Prcp']].corr()"
   ]
  },
  {
   "cell_type": "code",
   "execution_count": 37,
   "metadata": {},
   "outputs": [
    {
     "data": {
      "image/png": "[encoded data removed]",
      "text/plain": [
       "<Figure size 432x288 with 2 Axes>"
      ]
     },
     "metadata": {
      "needs_background": "light"
     },
     "output_type": "display_data"
    }
   ],
   "source": [
    "fire_rain_df.index = fire_rain_df.index.values.astype(int)\n",
    "date = fire_rain_df.index.astype('O')\n",
    "fig, ax1 = plt.subplots()\n",
    "\n",
    "ax1.plot(date[-2017+1990:], fire_rain_df['Prcp'][-2017+1990:], c='b')\n",
    "ax1.locator_params(axis='x', numticks=5)\n",
    "ax2 = ax1.twinx()\n",
    "ax2.plot(date[-2017+1990:], fire_rain_df['acres'][-2017+1990:], c='r')\n",
    "\n",
    "\n",
    "ax1.set_ylabel('prcp(in)')\n",
    "ax1.set_xlabel('years')\n",
    "ax1.grid()\n",
    "\n",
    "plt.savefig('prcp_acres_1990-2015.png')\n",
    "\n",
    "ax2.set_ylabel('acres burnt(in 10s of millions)')\n",
    "\n",
    "\n",
    "fig.tight_layout()"
   ]
  },
  {
   "cell_type": "code",
   "execution_count": 38,
   "metadata": {},
   "outputs": [
    {
     "data": {
      "text/plain": [
       "0.15709464387460514"
      ]
     },
     "execution_count": 38,
     "metadata": {},
     "output_type": "execute_result"
    }
   ],
   "source": [
    "fire_rain_df['acres'].corr(fire_rain_df['Prcp'])"
   ]
  },
  {
   "cell_type": "code",
   "execution_count": 48,
   "metadata": {},
   "outputs": [
    {
     "data": {
      "text/html": [
       "<div>\n",
       "<style scoped>\n",
       "    .dataframe tbody tr th:only-of-type {\n",
       "        vertical-align: middle;\n",
       "    }\n",
       "\n",
       "    .dataframe tbody tr th {\n",
       "        vertical-align: top;\n",
       "    }\n",
       "\n",
       "    .dataframe thead th {\n",
       "        text-align: right;\n",
       "    }\n",
       "</style>\n",
       "<table border=\"1\" class=\"dataframe\">\n",
       "  <thead>\n",
       "    <tr style=\"text-align: right;\">\n",
       "      <th></th>\n",
       "      <th>Biomass(ha)</th>\n",
       "    </tr>\n",
       "  </thead>\n",
       "  <tbody>\n",
       "    <tr>\n",
       "      <th>1990</th>\n",
       "      <td>4285410.09</td>\n",
       "    </tr>\n",
       "    <tr>\n",
       "      <th>1991</th>\n",
       "      <td>4280129.34</td>\n",
       "    </tr>\n",
       "    <tr>\n",
       "      <th>1992</th>\n",
       "      <td>4274848.63</td>\n",
       "    </tr>\n",
       "    <tr>\n",
       "      <th>1993</th>\n",
       "      <td>4269567.91</td>\n",
       "    </tr>\n",
       "    <tr>\n",
       "      <th>1994</th>\n",
       "      <td>4264287.15</td>\n",
       "    </tr>\n",
       "    <tr>\n",
       "      <th>1995</th>\n",
       "      <td>4259006.42</td>\n",
       "    </tr>\n",
       "    <tr>\n",
       "      <th>1996</th>\n",
       "      <td>4253725.67</td>\n",
       "    </tr>\n",
       "    <tr>\n",
       "      <th>1997</th>\n",
       "      <td>4248444.95</td>\n",
       "    </tr>\n",
       "    <tr>\n",
       "      <th>1998</th>\n",
       "      <td>4243164.19</td>\n",
       "    </tr>\n",
       "    <tr>\n",
       "      <th>1999</th>\n",
       "      <td>4237883.48</td>\n",
       "    </tr>\n",
       "    <tr>\n",
       "      <th>2000</th>\n",
       "      <td>4232602.73</td>\n",
       "    </tr>\n",
       "    <tr>\n",
       "      <th>2001</th>\n",
       "      <td>4231239.51</td>\n",
       "    </tr>\n",
       "    <tr>\n",
       "      <th>2002</th>\n",
       "      <td>4229876.27</td>\n",
       "    </tr>\n",
       "    <tr>\n",
       "      <th>2003</th>\n",
       "      <td>4228513.06</td>\n",
       "    </tr>\n",
       "    <tr>\n",
       "      <th>2004</th>\n",
       "      <td>4227149.82</td>\n",
       "    </tr>\n",
       "    <tr>\n",
       "      <th>2005</th>\n",
       "      <td>4225786.60</td>\n",
       "    </tr>\n",
       "    <tr>\n",
       "      <th>2006</th>\n",
       "      <td>4223885.94</td>\n",
       "    </tr>\n",
       "    <tr>\n",
       "      <th>2007</th>\n",
       "      <td>4221985.23</td>\n",
       "    </tr>\n",
       "    <tr>\n",
       "      <th>2008</th>\n",
       "      <td>4220084.61</td>\n",
       "    </tr>\n",
       "    <tr>\n",
       "      <th>2009</th>\n",
       "      <td>4218183.93</td>\n",
       "    </tr>\n",
       "    <tr>\n",
       "      <th>2010</th>\n",
       "      <td>4216283.27</td>\n",
       "    </tr>\n",
       "    <tr>\n",
       "      <th>2011</th>\n",
       "      <td>4214516.42</td>\n",
       "    </tr>\n",
       "    <tr>\n",
       "      <th>2012</th>\n",
       "      <td>4212750.75</td>\n",
       "    </tr>\n",
       "    <tr>\n",
       "      <th>2013</th>\n",
       "      <td>4210985.10</td>\n",
       "    </tr>\n",
       "    <tr>\n",
       "      <th>2014</th>\n",
       "      <td>4209219.43</td>\n",
       "    </tr>\n",
       "    <tr>\n",
       "      <th>2015</th>\n",
       "      <td>4207453.76</td>\n",
       "    </tr>\n",
       "    <tr>\n",
       "      <th>2016</th>\n",
       "      <td>4205688.09</td>\n",
       "    </tr>\n",
       "  </tbody>\n",
       "</table>\n",
       "</div>"
      ],
      "text/plain": [
       "      Biomass(ha)\n",
       "1990   4285410.09\n",
       "1991   4280129.34\n",
       "1992   4274848.63\n",
       "1993   4269567.91\n",
       "1994   4264287.15\n",
       "1995   4259006.42\n",
       "1996   4253725.67\n",
       "1997   4248444.95\n",
       "1998   4243164.19\n",
       "1999   4237883.48\n",
       "2000   4232602.73\n",
       "2001   4231239.51\n",
       "2002   4229876.27\n",
       "2003   4228513.06\n",
       "2004   4227149.82\n",
       "2005   4225786.60\n",
       "2006   4223885.94\n",
       "2007   4221985.23\n",
       "2008   4220084.61\n",
       "2009   4218183.93\n",
       "2010   4216283.27\n",
       "2011   4214516.42\n",
       "2012   4212750.75\n",
       "2013   4210985.10\n",
       "2014   4209219.43\n",
       "2015   4207453.76\n",
       "2016   4205688.09"
      ]
     },
     "execution_count": 48,
     "metadata": {},
     "output_type": "execute_result"
    }
   ],
   "source": [
    "biomass_df.index = biomass_df.index.map(int)\n",
    "biomass_df.head(50)"
   ]
  },
  {
   "cell_type": "code",
   "execution_count": 40,
   "metadata": {},
   "outputs": [],
   "source": [
    "c02_temp_acres_prcp_df = c02_temp_df.join(fire_rain_df, how='right')"
   ]
  },
  {
   "cell_type": "code",
   "execution_count": 41,
   "metadata": {},
   "outputs": [],
   "source": [
    "c02_temp_acres_prcp_bio_df = c02_temp_acres_prcp_df.join(biomass_df, how='right')"
   ]
  },
  {
   "cell_type": "code",
   "execution_count": 42,
   "metadata": {},
   "outputs": [],
   "source": [
    "climate_corr = c02_temp_acres_prcp_bio_df.corr()"
   ]
  },
  {
   "cell_type": "code",
   "execution_count": 43,
   "metadata": {},
   "outputs": [
    {
     "data": {
      "image/png": "[encoded data removed]",
      "text/plain": [
       "<Figure size 864x864 with 2 Axes>"
      ]
     },
     "metadata": {
      "needs_background": "light"
     },
     "output_type": "display_data"
    }
   ],
   "source": [
    "labels = [t for t in climate_corr.columns]\n",
    "gradient = np.linspace(0, 1, 256)\n",
    "gradient = np.vstack((gradient, gradient))\n",
    "\n",
    "fig = plt.figure(figsize=(12, 12))\n",
    "ax = fig.add_subplot(111)\n",
    "s = ax.matshow(climate_corr, cmap=plt.cm.RdYlGn, label=labels)\n",
    "\n",
    "ax.set_yticks(np.arange(len(labels)))\n",
    "ax.set_xticks(np.arange(len(labels)))\n",
    "ax.set_yticklabels(labels)\n",
    "ax.set_xticklabels(labels)\n",
    "# mat = np.random.random((5,5))\n",
    "# plt.imshow(origin=\"lower\", cmap='RdYlGn', interpolation='nearest')\n",
    "\n",
    "\n",
    "\n",
    "\n",
    "# cbar = fig.colorbar(s, ax=ax, shrink=0.8)\n",
    "cbar = fig.colorbar(s, ax=ax, shrink=0.8)\n",
    "# cbar.ax.set_yticklabels(['> 1','0','< -1'])\n",
    "plt.title('Climate Correlations', fontsize=20)\n",
    "plt.tight_layout()\n",
    "plt.savefig('correlations')\n",
    "\n",
    "plt.show()"
   ]
  },
  {
   "cell_type": "code",
   "execution_count": 44,
   "metadata": {},
   "outputs": [
    {
     "data": {
      "text/html": [
       "<div>\n",
       "<style scoped>\n",
       "    .dataframe tbody tr th:only-of-type {\n",
       "        vertical-align: middle;\n",
       "    }\n",
       "\n",
       "    .dataframe tbody tr th {\n",
       "        vertical-align: top;\n",
       "    }\n",
       "\n",
       "    .dataframe thead th {\n",
       "        text-align: right;\n",
       "    }\n",
       "</style>\n",
       "<table border=\"1\" class=\"dataframe\">\n",
       "  <thead>\n",
       "    <tr style=\"text-align: right;\">\n",
       "      <th></th>\n",
       "      <th>average_anual_temp(c)</th>\n",
       "      <th>ppm</th>\n",
       "      <th>acres</th>\n",
       "      <th>Prcp</th>\n",
       "      <th>Biomass(ha)</th>\n",
       "    </tr>\n",
       "  </thead>\n",
       "  <tbody>\n",
       "    <tr>\n",
       "      <th>average_anual_temp(c)</th>\n",
       "      <td>1.000000</td>\n",
       "      <td>0.696608</td>\n",
       "      <td>0.198543</td>\n",
       "      <td>0.400533</td>\n",
       "      <td>-0.550481</td>\n",
       "    </tr>\n",
       "    <tr>\n",
       "      <th>ppm</th>\n",
       "      <td>0.696608</td>\n",
       "      <td>1.000000</td>\n",
       "      <td>0.510001</td>\n",
       "      <td>0.243414</td>\n",
       "      <td>-0.942040</td>\n",
       "    </tr>\n",
       "    <tr>\n",
       "      <th>acres</th>\n",
       "      <td>0.198543</td>\n",
       "      <td>0.510001</td>\n",
       "      <td>1.000000</td>\n",
       "      <td>0.073035</td>\n",
       "      <td>-0.551741</td>\n",
       "    </tr>\n",
       "    <tr>\n",
       "      <th>Prcp</th>\n",
       "      <td>0.400533</td>\n",
       "      <td>0.243414</td>\n",
       "      <td>0.073035</td>\n",
       "      <td>1.000000</td>\n",
       "      <td>-0.180290</td>\n",
       "    </tr>\n",
       "    <tr>\n",
       "      <th>Biomass(ha)</th>\n",
       "      <td>-0.550481</td>\n",
       "      <td>-0.942040</td>\n",
       "      <td>-0.551741</td>\n",
       "      <td>-0.180290</td>\n",
       "      <td>1.000000</td>\n",
       "    </tr>\n",
       "  </tbody>\n",
       "</table>\n",
       "</div>"
      ],
      "text/plain": [
       "                       average_anual_temp(c)       ppm     acres      Prcp  \\\n",
       "average_anual_temp(c)               1.000000  0.696608  0.198543  0.400533   \n",
       "ppm                                 0.696608  1.000000  0.510001  0.243414   \n",
       "acres                               0.198543  0.510001  1.000000  0.073035   \n",
       "Prcp                                0.400533  0.243414  0.073035  1.000000   \n",
       "Biomass(ha)                        -0.550481 -0.942040 -0.551741 -0.180290   \n",
       "\n",
       "                       Biomass(ha)  \n",
       "average_anual_temp(c)    -0.550481  \n",
       "ppm                      -0.942040  \n",
       "acres                    -0.551741  \n",
       "Prcp                     -0.180290  \n",
       "Biomass(ha)               1.000000  "
      ]
     },
     "execution_count": 44,
     "metadata": {},
     "output_type": "execute_result"
    }
   ],
   "source": [
    "climate_corr"
   ]
  },
  {
   "cell_type": "code",
   "execution_count": 45,
   "metadata": {},
   "outputs": [],
   "source": [
    "c02_temp_acres_prcp_bio_df.to_csv('results.csv')"
   ]
  },
  {
   "cell_type": "code",
   "execution_count": 120,
   "metadata": {
    "scrolled": false
   },
   "outputs": [
    {
     "data": {
      "image/png": "[encoded data removed]",
      "text/plain": [
       "<Figure size 432x288 with 2 Axes>"
      ]
     },
     "metadata": {
      "needs_background": "light"
     },
     "output_type": "display_data"
    }
   ],
   "source": [
    "#CO2 to Biomass\n",
    "fire_rain_df.index = fire_rain_df.index.values.astype(int)\n",
    "date = fire_rain_df.index.astype('O')\n",
    "fig, ax1 = plt.subplots()\n",
    "\n",
    "ax1.plot(biomass_df.index, biomass_df, c='g')\n",
    "# ax1.locator_params(axis='x', numticks=5)\n",
    "ax2 = ax1.twinx()\n",
    "ax2.plot(biomass_df.index, c02_temp_acres_prcp_bio_df['ppm'][-2017+1990:], c='k')\n",
    "\n",
    "plt.title('CO2 and Biomass Correlation', fontsize=20)\n",
    "ax1.set_ylabel('biomass(he)')\n",
    "ax1.set_xlabel('years')\n",
    "ax1.grid()\n",
    "\n",
    "plt.savefig('prcp_acres_1990-2015.png')\n",
    "\n",
    "ax2.set_ylabel('ppm')\n",
    "\n",
    "fig.tight_layout()"
   ]
  },
  {
   "cell_type": "code",
   "execution_count": 126,
   "metadata": {},
   "outputs": [
    {
     "data": {
      "image/png": "[encoded data removed]",
      "text/plain": [
       "<Figure size 432x288 with 2 Axes>"
      ]
     },
     "metadata": {
      "needs_background": "light"
     },
     "output_type": "display_data"
    }
   ],
   "source": [
    "# CO2 to Fire Acreage plot\n",
    "\n",
    "fig, ax1 = plt.subplots()\n",
    "ax1.plot(c02_temp_acres_prcp_bio_df.index, c02_temp_acres_prcp_bio_df['ppm'], c='k')\n",
    "ax2 = ax1.twinx()\n",
    "ax2.plot(c02_temp_acres_prcp_bio_df.index, c02_temp_acres_prcp_bio_df['acres'], c='r')\n",
    "ax1.grid()\n",
    "ax1.set_ylabel('CO2 ppm')\n",
    "ax1.set_xlabel('Years')\n",
    "ax2.set_ylabel('Acres Burned (in 10s of millions)')\n",
    "plt.title('Fire Acerage Burned and CO2 Correlation', fontsize=20)\n",
    "plt.savefig(\"fire_c021990-2016.png\")"
   ]
  },
  {
   "cell_type": "code",
   "execution_count": 117,
   "metadata": {},
   "outputs": [
    {
     "data": {
      "image/png": "[encoded data removed]",
      "text/plain": [
       "<Figure size 432x288 with 2 Axes>"
      ]
     },
     "metadata": {
      "needs_background": "light"
     },
     "output_type": "display_data"
    }
   ],
   "source": [
    "#Temp to Biomass graph\n",
    "\n",
    "fire_rain_df.index = fire_rain_df.index.values.astype(int)\n",
    "date = fire_rain_df.index.astype('O')\n",
    "fig, ax1 = plt.subplots()\n",
    "\n",
    "ax1.plot(c02_temp_df.index[-2017+1988:], \n",
    "            c02_temp_df['average_anual_temp(c)'][-2017+1988:],\n",
    "            c='k')\n",
    "# ax1.locator_params(axis='x', numticks=5)\n",
    "ax2 = ax1.twinx()\n",
    "ax2.plot(biomass_df.index, biomass_df, c='g')\n",
    "\n",
    "plt.title('Temperature and Biomass Correlation', fontsize=20)\n",
    "ax1.set_ylabel('Temp (c)')\n",
    "ax1.set_xlabel('Year')\n",
    "ax1.grid()\n",
    "\n",
    "plt.savefig('Temp_Biomass.png')\n",
    "\n",
    "ax2.set_ylabel('Biomass (he)')\n",
    "\n",
    "fig.tight_layout()"
   ]
  },
  {
   "cell_type": "code",
   "execution_count": 130,
   "metadata": {},
   "outputs": [
    {
     "data": {
      "image/png": "[encoded data removed]",
      "text/plain": [
       "<Figure size 432x288 with 2 Axes>"
      ]
     },
     "metadata": {
      "needs_background": "light"
     },
     "output_type": "display_data"
    }
   ],
   "source": [
    "#Temp to Rainfall Graph\n",
    "fig, ax1 = plt.subplots()\n",
    "ax1.plot(c02_temp_acres_prcp_bio_df.index, c02_temp_acres_prcp_bio_df['Prcp'], c='b')\n",
    "ax2 = ax1.twinx()\n",
    "ax2.plot(c02_temp_acres_prcp_bio_df.index, c02_temp_acres_prcp_bio_df['average_anual_temp(c)'], c='r')\n",
    "ax1.grid()\n",
    "ax1.set_ylabel('Percipitation (in.)')\n",
    "ax1.set_xlabel('Rain fall')\n",
    "ax2.set_ylabel('Average Annual Temperature (C)')\n",
    "plt.title('Temperature and Rainfall Correlation', fontsize=20)\n",
    "plt.savefig(\"temp_rainfall1990-2016.png\")"
   ]
  },
  {
   "cell_type": "code",
   "execution_count": null,
   "metadata": {},
   "outputs": [],
   "source": []
  }
 ],
 "metadata": {
  "kernelspec": {
   "display_name": "Python 3",
   "language": "python",
   "name": "python3"
  },
  "language_info": {
   "codemirror_mode": {
    "name": "ipython",
    "version": 3
   },
   "file_extension": ".py",
   "mimetype": "text/x-python",
   "name": "python",
   "nbconvert_exporter": "python",
   "pygments_lexer": "ipython3",
   "version": "3.7.1"
  }
 },
 "nbformat": 4,
 "nbformat_minor": 2
}
